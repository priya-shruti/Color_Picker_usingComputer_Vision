{
 "cells": [
  {
   "cell_type": "code",
   "execution_count": 5,
   "id": "4dc1471f-d4b9-4e97-afdb-183a9404538b",
   "metadata": {},
   "outputs": [],
   "source": [
    "import cv2"
   ]
  },
  {
   "cell_type": "code",
   "execution_count": 3,
   "id": "d4f372f0-17f7-48a3-8895-acbbb7c7295a",
   "metadata": {},
   "outputs": [],
   "source": [
    "import numpy as np"
   ]
  },
  {
   "cell_type": "code",
   "execution_count": 9,
   "id": "fc049015-2be6-4c9b-9906-428a699cc9ed",
   "metadata": {},
   "outputs": [
    {
     "ename": "error",
     "evalue": "OpenCV(4.10.0) D:\\a\\opencv-python\\opencv-python\\opencv\\modules\\highgui\\src\\window_w32.cpp:2561: error: (-27:Null pointer) NULL window: 'Color Picker' in function 'cvGetTrackbarPos'\n",
     "output_type": "error",
     "traceback": [
      "\u001b[1;31m---------------------------------------------------------------------------\u001b[0m",
      "\u001b[1;31merror\u001b[0m                                     Traceback (most recent call last)",
      "Cell \u001b[1;32mIn[9], line 17\u001b[0m\n\u001b[0;32m     15\u001b[0m \u001b[38;5;28;01mif\u001b[39;00m k\u001b[38;5;241m==\u001b[39m\u001b[38;5;241m27\u001b[39m: \u001b[38;5;66;03m#for exit\u001b[39;00m\n\u001b[0;32m     16\u001b[0m     \u001b[38;5;28;01mbreak\u001b[39;00m\n\u001b[1;32m---> 17\u001b[0m s\u001b[38;5;241m=\u001b[39mcv2\u001b[38;5;241m.\u001b[39mgetTrackbarPos(s1,\u001b[38;5;124m\"\u001b[39m\u001b[38;5;124mColor Picker\u001b[39m\u001b[38;5;124m\"\u001b[39m)\n\u001b[0;32m     18\u001b[0m r\u001b[38;5;241m=\u001b[39mcv2\u001b[38;5;241m.\u001b[39mgetTrackbarPos(\u001b[38;5;124m\"\u001b[39m\u001b[38;5;124mR\u001b[39m\u001b[38;5;124m\"\u001b[39m,\u001b[38;5;124m\"\u001b[39m\u001b[38;5;124mColor Picker\u001b[39m\u001b[38;5;124m\"\u001b[39m)\n\u001b[0;32m     19\u001b[0m g\u001b[38;5;241m=\u001b[39mcv2\u001b[38;5;241m.\u001b[39mgetTrackbarPos(\u001b[38;5;124m\"\u001b[39m\u001b[38;5;124mG\u001b[39m\u001b[38;5;124m\"\u001b[39m,\u001b[38;5;124m\"\u001b[39m\u001b[38;5;124mColor Picker\u001b[39m\u001b[38;5;124m\"\u001b[39m)\n",
      "\u001b[1;31merror\u001b[0m: OpenCV(4.10.0) D:\\a\\opencv-python\\opencv-python\\opencv\\modules\\highgui\\src\\window_w32.cpp:2561: error: (-27:Null pointer) NULL window: 'Color Picker' in function 'cvGetTrackbarPos'\n"
     ]
    }
   ],
   "source": [
    "def cross(x):\n",
    "    pass\n",
    "img=np.zeros((300,512,3),np.uint8)\n",
    "cv2.namedWindow(\"Color Picker\")\n",
    "s1=\"0:OFF\\n1:ON\" #Create switch\n",
    "cv2.createTrackbar(s1,\"Color Picker\",0,1,cross)\n",
    "\n",
    "cv2.createTrackbar(\"R\",\"Color Picker\",0,255,cross)\n",
    "cv2.createTrackbar(\"G\",\"Color Picker\",0,255,cross)\n",
    "cv2.createTrackbar(\"B\",\"Color Picker\",0,255,cross)\n",
    "\n",
    "while True:\n",
    "    cv2.imshow(\"Color Picker\",img)\n",
    "    k=cv2.waitKey(1)\n",
    "    if k==27: #for exit\n",
    "        break\n",
    "    s=cv2.getTrackbarPos(s1,\"Color Picker\")\n",
    "    r=cv2.getTrackbarPos(\"R\",\"Color Picker\")\n",
    "    g=cv2.getTrackbarPos(\"G\",\"Color Picker\")\n",
    "    b=cv2.getTrackbarPos(\"B\",\"Color Picker\")\n",
    "\n",
    "    if s==0:\n",
    "        img[:]=0\n",
    "    else:\n",
    "        img[:]=[r,g,b]\n",
    "\n",
    "cv2.destroyAllWindows()"
   ]
  },
  {
   "cell_type": "code",
   "execution_count": null,
   "id": "09b785ce-520a-4f1d-8a0d-168e3e8c9aff",
   "metadata": {},
   "outputs": [],
   "source": []
  }
 ],
 "metadata": {
  "kernelspec": {
   "display_name": "Python 3 (ipykernel)",
   "language": "python",
   "name": "python3"
  },
  "language_info": {
   "codemirror_mode": {
    "name": "ipython",
    "version": 3
   },
   "file_extension": ".py",
   "mimetype": "text/x-python",
   "name": "python",
   "nbconvert_exporter": "python",
   "pygments_lexer": "ipython3",
   "version": "3.12.4"
  }
 },
 "nbformat": 4,
 "nbformat_minor": 5
}
