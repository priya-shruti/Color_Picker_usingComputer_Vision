{
 "cells": [
  {
   "cell_type": "code",
   "execution_count": 5,
   "id": "4dc1471f-d4b9-4e97-afdb-183a9404538b",
   "metadata": {},
   "outputs": [],
   "source": [
    "import cv2"
   ]
  },
  {
   "cell_type": "code",
   "execution_count": 3,
   "id": "d4f372f0-17f7-48a3-8895-acbbb7c7295a",
   "metadata": {},
   "outputs": [],
   "source": [
    "import numpy as np"
   ]
  },
  {
   "cell_type": "code",
   "execution_count": 13,
   "id": "fc049015-2be6-4c9b-9906-428a699cc9ed",
   "metadata": {},
   "outputs": [],
   "source": [
    "def cross(x):\n",
    "    pass\n",
    "img=np.zeros((300,512,3),np.uint8)\n",
    "cv2.namedWindow(\"Color Picker\")\n",
    "s1=\"0:OFF\\n1:ON\" #Create switch\n",
    "cv2.createTrackbar(s1,\"Color Picker\",0,1,cross)\n",
    "\n",
    "cv2.createTrackbar(\"R\",\"Color Picker\",0,255,cross)\n",
    "cv2.createTrackbar(\"G\",\"Color Picker\",0,255,cross)\n",
    "cv2.createTrackbar(\"B\",\"Color Picker\",0,255,cross)\n",
    "\n",
    "while True:\n",
    "    cv2.imshow(\"Color Picker\",img)\n",
    "    k=cv2.waitKey(1)\n",
    "    if k==27: #for exit\n",
    "        break\n",
    "    s=cv2.getTrackbarPos(s1,\"Color Picker\")\n",
    "    r=cv2.getTrackbarPos(\"R\",\"Color Picker\")\n",
    "    g=cv2.getTrackbarPos(\"G\",\"Color Picker\")\n",
    "    b=cv2.getTrackbarPos(\"B\",\"Color Picker\")\n",
    "\n",
    "    if s==0:\n",
    "        img[:]=0\n",
    "    else:\n",
    "        img[:]=[r,g,b]\n",
    "\n",
    "cv2.destroyAllWindows()"
   ]
  },
  {
   "cell_type": "code",
   "execution_count": null,
   "id": "09b785ce-520a-4f1d-8a0d-168e3e8c9aff",
   "metadata": {},
   "outputs": [],
   "source": []
  }
 ],
 "metadata": {
  "kernelspec": {
   "display_name": "Python 3 (ipykernel)",
   "language": "python",
   "name": "python3"
  },
  "language_info": {
   "codemirror_mode": {
    "name": "ipython",
    "version": 3
   },
   "file_extension": ".py",
   "mimetype": "text/x-python",
   "name": "python",
   "nbconvert_exporter": "python",
   "pygments_lexer": "ipython3",
   "version": "3.12.4"
  }
 },
 "nbformat": 4,
 "nbformat_minor": 5
}
